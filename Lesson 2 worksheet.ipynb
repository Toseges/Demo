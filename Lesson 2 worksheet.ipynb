{
 "cells": [
  {
   "cell_type": "code",
   "execution_count": 9,
   "id": "f7ff7731",
   "metadata": {},
   "outputs": [
    {
     "ename": "SyntaxError",
     "evalue": "invalid syntax (741900633.py, line 3)",
     "output_type": "error",
     "traceback": [
      "\u001b[0;36m  File \u001b[0;32m\"/var/folders/fr/nm677z7n0sg8_t1n208dxyfr0000gq/T/ipykernel_32164/741900633.py\"\u001b[0;36m, line \u001b[0;32m3\u001b[0m\n\u001b[0;31m    Conditionals in python consists of the following:\u001b[0m\n\u001b[0m                           ^\u001b[0m\n\u001b[0;31mSyntaxError\u001b[0m\u001b[0;31m:\u001b[0m invalid syntax\n"
     ]
    }
   ],
   "source": [
    "## conditionals\n",
    "\n",
    "Conditionals in python consists of the following:\n",
    "* if statement\n",
    "* elif statement\n",
    "* else statement\n"
   ]
  },
  {
   "cell_type": "code",
   "execution_count": 11,
   "id": "ef556dc1",
   "metadata": {
    "scrolled": true
   },
   "outputs": [
    {
     "name": "stdout",
     "output_type": "stream",
     "text": [
      "Enter your nameJane\n",
      "Enter your year of birth2005\n",
      " hi Jane, you are 18 years old\n"
     ]
    }
   ],
   "source": [
    "# program that return the age \n",
    "\n",
    "name = input('Enter your name')\n",
    "yob = int(input ('Enter your year of birth'))\n",
    "\n",
    "age = 2023 - yob\n",
    "print(f' hi {name}, you are {age} years old')"
   ]
  },
  {
   "cell_type": "code",
   "execution_count": 12,
   "id": "d7c9bac6",
   "metadata": {},
   "outputs": [
    {
     "name": "stdout",
     "output_type": "stream",
     "text": [
      "Enter your nameFlora\n",
      "Enter your year of birth2001\n",
      "Hi Flora, you are an adult\n"
     ]
    }
   ],
   "source": [
    "# program that tells whether someone is a teenager, child, adult, aged\n",
    "\n",
    "# At this point we are accepting user input\n",
    "name = input('Enter your name')\n",
    "yob = int(input ('Enter your year of birth'))\n",
    "\n",
    "# At this point we are calculating the age\n",
    "age = 2023 - yob\n",
    "\n",
    "if age < 13:\n",
    "    print(f'Hi {name}, you are a child')\n",
    "elif age <20:\n",
    "    print(f'Hi {name}, you are a teenager')\n",
    "elif age <60:\n",
    "    print(f'Hi {name}, you are an adult')\n",
    "else: \n",
    "    print(f'Hi {name}, you are aged')\n",
    "    \n"
   ]
  },
  {
   "cell_type": "code",
   "execution_count": 13,
   "id": "74ee58c0",
   "metadata": {},
   "outputs": [
    {
     "name": "stdout",
     "output_type": "stream",
     "text": [
      "Enter the number23\n",
      "23, is an odd number\n"
     ]
    }
   ],
   "source": [
    "# write a program that checks whether a number is odd or even\n",
    "\n",
    "number = int(input('Enter the number'))\n",
    "\n",
    "if number % 2 == 0:\n",
    "    print(f'{number}, is an even number')\n",
    "else: \n",
    "    print(f'{number}, is an odd number')\n",
    "\n"
   ]
  },
  {
   "cell_type": "code",
   "execution_count": 17,
   "id": "b4b469d3",
   "metadata": {},
   "outputs": [
    {
     "name": "stdout",
     "output_type": "stream",
     "text": [
      "Enter the number51\n",
      "51, is an odd number\n"
     ]
    }
   ],
   "source": [
    "# write a program that checks whether a number is odd, even and also check if it is a multiple of 4\n",
    "\n",
    "number = int(input('Enter the number'))\n",
    "\n",
    "if number % 2 ==0:\n",
    "    if number % 4 ==0:\n",
    "        print(f'{number}, is a multiple of 4')\n",
    "    else: \n",
    "        print(f'{number}, is an even number')  \n",
    "else: \n",
    "    print(f'{number}, is an odd number')\n",
    "\n",
    "        \n",
    "        \n",
    "        "
   ]
  },
  {
   "cell_type": "code",
   "execution_count": null,
   "id": "cf34a50a",
   "metadata": {},
   "outputs": [],
   "source": [
    "# write a program that checks whether a number is odd, even, or a factor of 100"
   ]
  },
  {
   "cell_type": "code",
   "execution_count": 22,
   "id": "b8df8a0b",
   "metadata": {},
   "outputs": [
    {
     "name": "stdout",
     "output_type": "stream",
     "text": [
      "Enter the number100\n",
      "100, is a factor of 100\n"
     ]
    }
   ],
   "source": [
    "number = int(input('Enter the number'))\n",
    "\n",
    "if 100 % number == 0:\n",
    "    print(f'{number}, is a factor of 100')\n",
    "elif number % 2 ==0:\n",
    "     print(f'{number}, is an even number')\n",
    "else: \n",
    "    print(f'{number}, is an odd number')\n",
    "    \n"
   ]
  },
  {
   "cell_type": "code",
   "execution_count": null,
   "id": "256c9b91",
   "metadata": {},
   "outputs": [],
   "source": []
  },
  {
   "cell_type": "code",
   "execution_count": null,
   "id": "f8ec5799",
   "metadata": {},
   "outputs": [],
   "source": [
    "##lists, dictionaries, tuples"
   ]
  },
  {
   "cell_type": "code",
   "execution_count": 26,
   "id": "71e89af8",
   "metadata": {},
   "outputs": [],
   "source": [
    "students = ['John', 'Joshua','Dan','Osagie']"
   ]
  },
  {
   "cell_type": "code",
   "execution_count": 28,
   "id": "b026adc4",
   "metadata": {},
   "outputs": [
    {
     "name": "stdout",
     "output_type": "stream",
     "text": [
      "['John', 'Joshua', 'Dan', 'Osagie']\n"
     ]
    }
   ],
   "source": [
    "print(students)"
   ]
  },
  {
   "cell_type": "code",
   "execution_count": 24,
   "id": "18f5fac9",
   "metadata": {},
   "outputs": [
    {
     "name": "stdout",
     "output_type": "stream",
     "text": [
      "<class 'list'>\n"
     ]
    }
   ],
   "source": [
    "print (type(students))"
   ]
  },
  {
   "cell_type": "code",
   "execution_count": 30,
   "id": "cd6330e4",
   "metadata": {},
   "outputs": [
    {
     "data": {
      "text/plain": [
       "'Osagie'"
      ]
     },
     "execution_count": 30,
     "metadata": {},
     "output_type": "execute_result"
    }
   ],
   "source": [
    "students[3]"
   ]
  },
  {
   "cell_type": "code",
   "execution_count": 31,
   "id": "add7c7ea",
   "metadata": {},
   "outputs": [
    {
     "data": {
      "text/plain": [
       "'John'"
      ]
     },
     "execution_count": 31,
     "metadata": {},
     "output_type": "execute_result"
    }
   ],
   "source": [
    "students[0]"
   ]
  },
  {
   "cell_type": "code",
   "execution_count": 32,
   "id": "796f2c94",
   "metadata": {},
   "outputs": [
    {
     "data": {
      "text/plain": [
       "'Osagie'"
      ]
     },
     "execution_count": 32,
     "metadata": {},
     "output_type": "execute_result"
    }
   ],
   "source": [
    "# negative index: starts from the end\n",
    "\n",
    "students[-1]"
   ]
  },
  {
   "cell_type": "code",
   "execution_count": 33,
   "id": "55104c2f",
   "metadata": {},
   "outputs": [
    {
     "data": {
      "text/plain": [
       "'Dan'"
      ]
     },
     "execution_count": 33,
     "metadata": {},
     "output_type": "execute_result"
    }
   ],
   "source": [
    "students[-2]"
   ]
  },
  {
   "cell_type": "code",
   "execution_count": 34,
   "id": "5d76a25c",
   "metadata": {},
   "outputs": [
    {
     "data": {
      "text/plain": [
       "['John', 'Joshua']"
      ]
     },
     "execution_count": 34,
     "metadata": {},
     "output_type": "execute_result"
    }
   ],
   "source": [
    "students[0:2]"
   ]
  },
  {
   "cell_type": "code",
   "execution_count": 35,
   "id": "e0b966af",
   "metadata": {},
   "outputs": [
    {
     "data": {
      "text/plain": [
       "['John', 'Joshua', 'Dan']"
      ]
     },
     "execution_count": 35,
     "metadata": {},
     "output_type": "execute_result"
    }
   ],
   "source": [
    "#Above we would assume that Dan should be listed but that was not with range,\n",
    "#hence to get than we add an extra range as shiwn below\n",
    "\n",
    "students[0:3]"
   ]
  },
  {
   "cell_type": "code",
   "execution_count": null,
   "id": "285056f2",
   "metadata": {},
   "outputs": [],
   "source": [
    " # creating a list of numbers between 1 and 10"
   ]
  },
  {
   "cell_type": "code",
   "execution_count": 37,
   "id": "f23ea3da",
   "metadata": {},
   "outputs": [
    {
     "name": "stdout",
     "output_type": "stream",
     "text": [
      "[1, 2, 3, 4, 5, 6, 7, 8, 9, 10, 11, 12, 13, 14, 15, 16, 17, 18, 19, 20, 21, 22, 23, 24, 25, 26, 27, 28, 29, 30, 31, 32, 33, 34, 35, 36, 37, 38, 39, 40, 41, 42, 43, 44, 45, 46, 47, 48, 49, 50, 51, 52, 53, 54, 55, 56, 57, 58, 59, 60, 61, 62, 63, 64, 65, 66, 67, 68, 69, 70, 71, 72, 73, 74, 75, 76, 77, 78, 79, 80, 81, 82, 83, 84, 85, 86, 87, 88, 89, 90, 91, 92, 93, 94, 95, 96, 97, 98, 99, 100]\n"
     ]
    }
   ],
   "source": [
    "num = list (range(1, 101))\n",
    "print(num)"
   ]
  },
  {
   "cell_type": "code",
   "execution_count": 38,
   "id": "609fa616",
   "metadata": {},
   "outputs": [
    {
     "name": "stdout",
     "output_type": "stream",
     "text": [
      "(1, 2, 3, 4, 5, 6, 7, 8, 9, 10)\n",
      "[1, 2, 3, 4, 5, 6, 7, 8, 9, 10]\n"
     ]
    }
   ],
   "source": [
    "\n",
    "num_1 = (1,2,3,4,5,6,7,8,9,10)\n",
    "num_2 = [1,2,3,4,5,6,7,8,9,10]\n",
    "\n",
    "print(num_1)\n",
    "print(num_2)"
   ]
  },
  {
   "cell_type": "code",
   "execution_count": 39,
   "id": "d22bf910",
   "metadata": {},
   "outputs": [
    {
     "name": "stdout",
     "output_type": "stream",
     "text": [
      "<class 'tuple'>\n",
      "<class 'list'>\n"
     ]
    }
   ],
   "source": [
    "print(type(num_1))\n",
    "print(type(num_2))"
   ]
  },
  {
   "cell_type": "code",
   "execution_count": null,
   "id": "df0f8c74",
   "metadata": {},
   "outputs": [],
   "source": []
  },
  {
   "cell_type": "code",
   "execution_count": 43,
   "id": "3e1a26d3",
   "metadata": {},
   "outputs": [],
   "source": [
    "#create a list of even numbers between 1 and 20\n",
    "\n",
    "even_no = list(range(2,21,2)) \n",
    "# 2= lower boundary, 21 = upper boundary, 2 = steps"
   ]
  },
  {
   "cell_type": "code",
   "execution_count": 44,
   "id": "3ebfc3d4",
   "metadata": {},
   "outputs": [
    {
     "data": {
      "text/plain": [
       "[2, 4, 6, 8, 10, 12, 14, 16, 18, 20]"
      ]
     },
     "execution_count": 44,
     "metadata": {},
     "output_type": "execute_result"
    }
   ],
   "source": [
    "even_no"
   ]
  },
  {
   "cell_type": "code",
   "execution_count": null,
   "id": "09bad78b",
   "metadata": {},
   "outputs": [],
   "source": []
  },
  {
   "cell_type": "code",
   "execution_count": 45,
   "id": "5761ec46",
   "metadata": {},
   "outputs": [],
   "source": [
    "# create a list of multiples of 7 between 1 and 70\n",
    "#create a list of even numbers between 20 and 50"
   ]
  },
  {
   "cell_type": "code",
   "execution_count": 48,
   "id": "17b9726c",
   "metadata": {},
   "outputs": [],
   "source": [
    "multi_seven = list(range(7,71,7))"
   ]
  },
  {
   "cell_type": "code",
   "execution_count": 49,
   "id": "5c57a8bc",
   "metadata": {},
   "outputs": [
    {
     "data": {
      "text/plain": [
       "[7, 14, 21, 28, 35, 42, 49, 56, 63, 70]"
      ]
     },
     "execution_count": 49,
     "metadata": {},
     "output_type": "execute_result"
    }
   ],
   "source": [
    "multi_seven"
   ]
  },
  {
   "cell_type": "code",
   "execution_count": 50,
   "id": "976a7672",
   "metadata": {},
   "outputs": [],
   "source": [
    "even_num = list(range(20,51,2))"
   ]
  },
  {
   "cell_type": "code",
   "execution_count": 51,
   "id": "d61bb508",
   "metadata": {},
   "outputs": [
    {
     "data": {
      "text/plain": [
       "[20, 22, 24, 26, 28, 30, 32, 34, 36, 38, 40, 42, 44, 46, 48, 50]"
      ]
     },
     "execution_count": 51,
     "metadata": {},
     "output_type": "execute_result"
    }
   ],
   "source": [
    "even_num"
   ]
  },
  {
   "cell_type": "code",
   "execution_count": 52,
   "id": "51c85a09",
   "metadata": {},
   "outputs": [],
   "source": [
    "# create a list of mutliples of 3 between 20 and 50\n",
    "\n",
    "multi_three = list(range(21,51,3))"
   ]
  },
  {
   "cell_type": "code",
   "execution_count": 53,
   "id": "77fb3411",
   "metadata": {},
   "outputs": [
    {
     "data": {
      "text/plain": [
       "[21, 24, 27, 30, 33, 36, 39, 42, 45, 48]"
      ]
     },
     "execution_count": 53,
     "metadata": {},
     "output_type": "execute_result"
    }
   ],
   "source": [
    "multi_three"
   ]
  },
  {
   "cell_type": "code",
   "execution_count": 55,
   "id": "9b445e8a",
   "metadata": {},
   "outputs": [
    {
     "name": "stdout",
     "output_type": "stream",
     "text": [
      "Enter your name: Dare\n",
      "welcome Dare, you are don't have enough money\n"
     ]
    }
   ],
   "source": [
    "# write a program that does some sort of user validation\n",
    "\n",
    "musk = ['elon','john', 'daniel']\n",
    "gates = ['bill','melinda','muyiwa']\n",
    "\n",
    "name = input ('Enter your name: ')\n",
    "\n",
    "if name in musk:\n",
    "    print(f' welcome {name}, you are in the musk family')\n",
    "elif name in gates: \n",
    "    print(f' welcome {name}, you are in the gates family')\n",
    "else: \n",
    "    print(f\"welcome {name}, you are don't have enough money\")"
   ]
  },
  {
   "cell_type": "code",
   "execution_count": null,
   "id": "93fd2c17",
   "metadata": {},
   "outputs": [],
   "source": []
  }
 ],
 "metadata": {
  "kernelspec": {
   "display_name": "Python 3 (ipykernel)",
   "language": "python",
   "name": "python3"
  },
  "language_info": {
   "codemirror_mode": {
    "name": "ipython",
    "version": 3
   },
   "file_extension": ".py",
   "mimetype": "text/x-python",
   "name": "python",
   "nbconvert_exporter": "python",
   "pygments_lexer": "ipython3",
   "version": "3.11.5"
  }
 },
 "nbformat": 4,
 "nbformat_minor": 5
}
